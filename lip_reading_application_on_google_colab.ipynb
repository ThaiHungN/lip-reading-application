{
  "cells": [
    {
      "cell_type": "code",
      "execution_count": null,
      "metadata": {
        "id": "ZbQ0K9cDd0gX"
      },
      "outputs": [],
      "source": [
        "!git clone https://github.com/ThaiHungN/lip-reading-application.git"
      ]
    },
    {
      "cell_type": "code",
      "execution_count": 2,
      "metadata": {
        "id": "61FqT5NTd89c"
      },
      "outputs": [],
      "source": [
        "import os\n",
        "os.chdir(\"lip-reading-application\")"
      ]
    },
    {
      "cell_type": "code",
      "execution_count": null,
      "metadata": {
        "id": "LXDZZMaWs1DQ"
      },
      "outputs": [],
      "source": [
        "!git clone https://github.com/mpc001/Visual_Speech_Recognition_for_Multiple_Languages.git"
      ]
    },
    {
      "cell_type": "code",
      "execution_count": null,
      "metadata": {
        "id": "k5ZbkL8QqN3a"
      },
      "outputs": [],
      "source": [
        "!pip install -r requirements.txt\n",
        "!conda install ffmpeg\n",
        "!pip install ffmpeg-python"
      ]
    },
    {
      "cell_type": "code",
      "execution_count": null,
      "metadata": {
        "id": "InrbKtsqgTEo"
      },
      "outputs": [],
      "source": [
        "!cd \"Visual_Speech_Recognition_for_Multiple_Languages/benchmarks/LRS3/models\" && gdown 1yHd4QwC7K_9Ro2OM_hC7pKUT2URPvm_f && unzip \"LRS3_V_WER32.3.zip\"\n",
        "!cd \"Visual_Speech_Recognition_for_Multiple_Languages/benchmarks/LRS3/language_models\" && gdown 1gh4ra__xuKb7yX9pNMe4ZwaSDKsCJlUe && unzip \"lm_en.zip\""
      ]
    },
    {
      "cell_type": "code",
      "execution_count": null,
      "metadata": {
        "id": "HkzI8Urdi1No"
      },
      "outputs": [],
      "source": [
        "!pip install flask-ngrok\n",
        "!pip install pyngrok==4.1.1\n",
        "!ngrok authtoken <ngrok authtoken>"
      ]
    },
    {
      "cell_type": "code",
      "execution_count": null,
      "metadata": {
        "id": "rx8MmZUwgYiB"
      },
      "outputs": [],
      "source": [
        "!python main.py"
      ]
    },
    {
      "cell_type": "code",
      "execution_count": null,
      "metadata": {
        "id": "8wnsLpKcv4Rw"
      },
      "outputs": [],
      "source": []
    }
  ],
  "metadata": {
    "accelerator": "GPU",
    "colab": {
      "provenance": [],
      "gpuType": "T4"
    },
    "kernelspec": {
      "display_name": "Python 3",
      "name": "python3"
    },
    "language_info": {
      "name": "python"
    }
  },
  "nbformat": 4,
  "nbformat_minor": 0
}